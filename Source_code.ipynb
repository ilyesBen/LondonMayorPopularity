{
 "cells": [
  {
   "cell_type": "code",
   "execution_count": 5,
   "metadata": {},
   "outputs": [],
   "source": [
    "import json\n",
    "import nltk\n",
    "from nltk.tokenize import word_tokenize\n",
    "from nltk.corpus import stopwords, twitter_samples\n",
    "from nltk.sentiment.vader import SentimentIntensityAnalyzer\n",
    "import random\n",
    "import operator\n",
    "import matplotlib.pyplot as plt\n",
    "import numpy as np\n",
    "from sklearn import linear_model, svm\n",
    "from sklearn import metrics\n",
    "from sklearn.model_selection import train_test_split\n",
    "from sklearn.feature_extraction.text import TfidfVectorizer\n",
    "from sklearn.feature_extraction.text import CountVectorizer\n",
    "##nltk.download('stopwords')\n",
    "##nltk.download('twitter_samples')"
   ]
  },
  {
   "cell_type": "markdown",
   "metadata": {},
   "source": [
    "# Twiiter API Ahthentication"
   ]
  },
  {
   "cell_type": "code",
   "execution_count": 3,
   "metadata": {},
   "outputs": [],
   "source": [
    "import tweepy\n",
    "from tweepy import OAuthHandler\n",
    "\n",
    "#Register a Twitter App and add the authentication and authorisation below to be able to use tweepy\n",
    "\n",
    "consumer_key = 'fake_consumer_key' \n",
    "consumer_secret = 'fake_consumer_secret'\n",
    "access_token = 'fake_access_token'\n",
    "access_secret = 'fake_access_secret'\n",
    " \n",
    "auth = OAuthHandler(consumer_key, consumer_secret)\n",
    "auth.set_access_token(access_token, access_secret)\n",
    " \n",
    "api = tweepy.API(auth)"
   ]
  },
  {
   "cell_type": "markdown",
   "metadata": {},
   "source": [
    "# Data Extraction (training set)\n",
    "The emojis  :D  :)  :-)  :-D  has been queried to represnt positive tweets \n",
    "\n",
    "The emojis  :(  :'(  ;-(  ;(  has been queried to represnt negative tweets\n",
    "\n",
    "refer to figure 1 of [19]\n",
    "\n",
    "We queried tweets in London with a radius of 200 Km. refer to [22] for geocode parameter"
   ]
  },
  {
   "cell_type": "code",
   "execution_count": null,
   "metadata": {},
   "outputs": [],
   "source": [
    "# Writing the tweets in a file in Json format\n",
    "with open('training_set_Lodon.json', 'a') as f :\n",
    "    for tweet in tweepy.Cursor(api.search, q=\";(\",rpp=100, lang=\"en\", geocode=\"51.507351,-0.127758,200Km\").items(5000):\n",
    "        f.write(json.dumps(tweet._json) + '\\n')  "
   ]
  },
  {
   "cell_type": "markdown",
   "metadata": {},
   "source": [
    "# Data Exploration"
   ]
  },
  {
   "cell_type": "code",
   "execution_count": 33,
   "metadata": {},
   "outputs": [
    {
     "name": "stdout",
     "output_type": "stream",
     "text": [
      "1\n"
     ]
    }
   ],
   "source": [
    "# read positive tweets\n",
    "with open('training_set_London.json', 'r') as f :\n",
    "    training_tweets_positive = [json.loads(line)['text'] for line in f]\n",
    "\n",
    "#read negative tweets\n",
    "with open('training_set_London_neg.json', 'r') as f :\n",
    "    training_tweets_negative = [json.loads(line)['text'] for line in f]\n",
    "\n",
    "# mergre the two categories in one String\n",
    "all_tweets = [' '.join(training_tweets_positive + training_tweets_negative)]\n",
    "\n",
    "# create the object CountVectorizer\n",
    "vectorizer = CountVectorizer()\n",
    "\n",
    "# tokenize and build vocabulary\n",
    "vectorizer.fit(all_tweets)\n",
    "\n",
    "# encode document\n",
    "vector = vectorizer.transform(all_tweets)"
   ]
  },
  {
   "cell_type": "code",
   "execution_count": 34,
   "metadata": {},
   "outputs": [],
   "source": [
    "# words' vocabulary are sorted ascendingly with respect to their Ids (values in the dictionary)\n",
    "# We get a list of tuples sorted\n",
    "sorted_vocabulary = sorted(vectorizer.vocabulary_.items(), key=operator.itemgetter(1))\n",
    "#Convert to list by taking only the words\n",
    "vocabulary = [value for (value,key) in sorted_vocabulary]"
   ]
  },
  {
   "cell_type": "markdown",
   "metadata": {},
   "source": [
    "## Data visualisation "
   ]
  },
  {
   "cell_type": "code",
   "execution_count": 58,
   "metadata": {},
   "outputs": [
    {
     "data": {
      "image/png": "[encoded data removed]",
      "text/plain": [
       "<matplotlib.figure.Figure at 0x1177dd7f0>"
      ]
     },
     "metadata": {},
     "output_type": "display_data"
    }
   ],
   "source": [
    "plt.figure(figsize=(20,10))\n",
    "n, bins, patches = plt.hist(vocabulary[:1000], weights = vector.toarray()[0][:1000], facecolor='green', bins=1000)"
   ]
  },
  {
   "cell_type": "markdown",
   "metadata": {},
   "source": [
    "# Data pre-processing and preparation\n",
    "\n",
    "This part is devided into two parts : \n",
    "\n",
    "1. data cleaning for Naive bayes classifier :\n",
    "We remove the Stop words, links, hashtags, user tags, punctuations and all words with a lenght smaller than 2, because for this classifer will be based on the most apearing words and these words apear frequently but they are meaningless in terms of sentiment analysis\n",
    "\n",
    "\n",
    "2. data cleaning for SVM and logistic regression :\n",
    "these classifiers use tfidf technique for features weightening which will remove the most apearing words automatically (more explanation in the report). hence we will remove only the hastags users' tags.\n",
    "\n",
    "The 'clean' function allows us to clean the dataset depeding on each case by changing the parameters :\n",
    "\n",
    "* stop_words = True => remove Stop words\n",
    "* hashtags = list of hastags  => remove hashtags from tweet\n",
    "* user_mentions = list users' tag = > remove users' tag from tweet"
   ]
  },
  {
   "cell_type": "code",
   "execution_count": 6,
   "metadata": {},
   "outputs": [],
   "source": [
    "STOP_WORDS = set(stopwords.words('english'))\n",
    "STOP_WORDS.update(['https','http','RT','...'])"
   ]
  },
  {
   "cell_type": "code",
   "execution_count": 7,
   "metadata": {},
   "outputs": [],
   "source": [
    "def clean(tweetText,stop_words = True, hashtags=None, user_mentions=None):\n",
    "    black_list = [] ## append haghtags and user tags to remove them\n",
    "    \n",
    "    if hashtags != None:\n",
    "        for hasch in hashtags:\n",
    "             black_list.append(hasch['text'])\n",
    "    \n",
    "    if (user_mentions != None and user_mentions != []):\n",
    "        for user in user_mentions:\n",
    "            black_list.append(user['screen_name'])\n",
    "    \n",
    "    text_tokenised = word_tokenize(tweetText) # list of lists of words\n",
    "    tweet_cleaned = []\n",
    "    \n",
    "    if stop_words :\n",
    "        for word in text_tokenised:\n",
    "            if (word not in black_list) and ('//' not in word) and (len(word) > 2) and (word not in STOP_WORDS):\n",
    "                tweet_cleaned.append(word)\n",
    "    else : \n",
    "        for word in text_tokenised:\n",
    "            if (word not in black_list) and ('//' not in word) and (len(word) > 2) :\n",
    "                tweet_cleaned.append(word)\n",
    "        \n",
    "    \n",
    "    return tweet_cleaned"
   ]
  },
  {
   "cell_type": "markdown",
   "metadata": {},
   "source": [
    "### Cleaning for SVM and Logistic Regression"
   ]
  },
  {
   "cell_type": "code",
   "execution_count": 94,
   "metadata": {},
   "outputs": [],
   "source": [
    "# read and clean positive tweets from file \n",
    "with open('training_set_London.json', 'r') as f :\n",
    "     tweets_positive = [' '.join( clean(json.loads(line)[\"text\"], False, json.loads(line)[\"entities\"][\"hashtags\"], json.loads(line)['entities']['user_mentions']) ) for line in f]\n",
    "\n",
    "#read and clean negative tweets from file\n",
    "with open('training_set_London_neg.json', 'r') as f :\n",
    "     tweets_negative = [' '.join(clean(json.loads(line)[\"text\"],False, \n",
    "                                json.loads(line)[\"entities\"][\"hashtags\"],\n",
    "                                json.loads(line)['entities']['user_mentions'])) for line in f]"
   ]
  },
  {
   "cell_type": "markdown",
   "metadata": {},
   "source": [
    "### Cleaning for Naive Bayes"
   ]
  },
  {
   "cell_type": "markdown",
   "metadata": {},
   "source": [
    "Extract negative and postive tweet's text, clean them and label them and create a list of all words cleaned for further usage"
   ]
  },
  {
   "cell_type": "code",
   "execution_count": 75,
   "metadata": {},
   "outputs": [],
   "source": [
    "all_words = []\n",
    "\n",
    "with open('training_set_London.json', 'r') as f :\n",
    "    training_pos_tweets = [( ' '.join(clean(json.loads(line)[\"text\"], True, json.loads(line)[\"entities\"][\"hashtags\"],json.loads(line)['entities']['user_mentions'])) , 'pos') for line in f]\n",
    "\n",
    "with open('training_set_London.json', 'r') as f :\n",
    "    for line in f:\n",
    "        all_words.extend(clean(json.loads(line)[\"text\"], True))\n",
    "\n",
    "with open('training_set_London_neg.json', 'r') as f :\n",
    "    training_neg_tweets = [(' '.join(clean(json.loads(line)[\"text\"], True, json.loads(line)[\"entities\"][\"hashtags\"],json.loads(line)['entities']['user_mentions'])), 'neg') for line in f]\n",
    "\n",
    "with open('training_set_London_neg.json', 'r') as f :  \n",
    "    for line in f:   \n",
    "        all_words.extend(clean(json.loads(line)[\"text\"], True))\n"
   ]
  },
  {
   "cell_type": "markdown",
   "metadata": {},
   "source": [
    "# Modelling process"
   ]
  },
  {
   "cell_type": "markdown",
   "metadata": {},
   "source": [
    "### 1. Logistic Regression"
   ]
  },
  {
   "cell_type": "markdown",
   "metadata": {},
   "source": [
    "We use Tfidf technique to encode tweets (as expalained before)"
   ]
  },
  {
   "cell_type": "code",
   "execution_count": 9,
   "metadata": {},
   "outputs": [],
   "source": [
    "training_tweets = tweets_negative + tweets_positive # regroup all the tweets \n",
    "\n",
    "vectorizer = TfidfVectorizer() # Create the vectorizer Object\n",
    "vectorizer.fit(training_tweets)#  create the voacabulary with weigths from tweets \n",
    "\n",
    "\n",
    "vector = vectorizer.transform(training_tweets) # assign weights for each word of the tweets \n",
    "\n",
    "target = np.append(np.zeros(len(tweets_negative), dtype=int) , np.ones(len(tweets_positive), dtype=int)) #Create the target with two categoris (0 for negative and 1 for postive)\n",
    "\n",
    "# Split the data into training test and testing test\n",
    "x_train, x_test, y_train, y_test = train_test_split(vector.toarray(), target, test_size=0.20, random_state=0) "
   ]
  },
  {
   "cell_type": "markdown",
   "metadata": {},
   "source": [
    "Train the logistic regression model "
   ]
  },
  {
   "cell_type": "code",
   "execution_count": 55,
   "metadata": {},
   "outputs": [
    {
     "data": {
      "text/plain": [
       "0.7586397873283119"
      ]
     },
     "execution_count": 55,
     "metadata": {},
     "output_type": "execute_result"
    }
   ],
   "source": [
    "logreg = linear_model.LogisticRegression()\n",
    "logreg.fit(x_train, y_train)\n",
    "\n",
    "logreg.score(x_test, y_test)"
   ]
  },
  {
   "cell_type": "markdown",
   "metadata": {},
   "source": [
    "Metrics to assess the model"
   ]
  },
  {
   "cell_type": "code",
   "execution_count": 71,
   "metadata": {},
   "outputs": [
    {
     "name": "stdout",
     "output_type": "stream",
     "text": [
      "             precision    recall  f1-score   support\n",
      "\n",
      "          0       0.75      0.70      0.73      4145\n",
      "          1       0.76      0.80      0.78      4883\n",
      "\n",
      "avg / total       0.76      0.76      0.76      9028\n",
      "\n",
      "[[2920 1225]\n",
      " [ 954 3929]]\n"
     ]
    }
   ],
   "source": [
    "print(metrics.classification_report(y_test, logreg.predict(x_test)))\n",
    "print(metrics.confusion_matrix(y_test, logreg.predict(x_test)))"
   ]
  },
  {
   "cell_type": "markdown",
   "metadata": {},
   "source": [
    "### 2. SVM"
   ]
  },
  {
   "cell_type": "markdown",
   "metadata": {},
   "source": [
    "We use Tfidf for this model as well, so we take the previous results "
   ]
  },
  {
   "cell_type": "code",
   "execution_count": 21,
   "metadata": {},
   "outputs": [
    {
     "data": {
      "text/plain": [
       "True"
      ]
     },
     "execution_count": 21,
     "metadata": {},
     "output_type": "execute_result"
    }
   ],
   "source": [
    "len(x_train) > len(x_train[0]) # n_samples > n_features => put dual = False (reference : http://scikit-learn.org/stable/modules/generated/sklearn.svm.LinearSVC.html )"
   ]
  },
  {
   "cell_type": "code",
   "execution_count": 33,
   "metadata": {},
   "outputs": [
    {
     "data": {
      "text/plain": [
       "0.777027027027027"
      ]
     },
     "execution_count": 33,
     "metadata": {},
     "output_type": "execute_result"
    }
   ],
   "source": [
    "svc = svm.LinearSVC(C=1, penalty ='l1', dual = False ) \n",
    "svc.fit(x_train, y_train)\n",
    "svc.score(x_test,y_test)"
   ]
  },
  {
   "cell_type": "code",
   "execution_count": 34,
   "metadata": {},
   "outputs": [
    {
     "name": "stdout",
     "output_type": "stream",
     "text": [
      "             precision    recall  f1-score   support\n",
      "\n",
      "          0       0.76      0.74      0.75      4145\n",
      "          1       0.79      0.80      0.80      4883\n",
      "\n",
      "avg / total       0.78      0.78      0.78      9028\n",
      "\n",
      "[[3088 1057]\n",
      " [ 956 3927]]\n"
     ]
    }
   ],
   "source": [
    "print(metrics.classification_report(y_test, svc.predict(x_test)))\n",
    "print(metrics.confusion_matrix(y_test, svc.predict(x_test)))"
   ]
  },
  {
   "cell_type": "markdown",
   "metadata": {},
   "source": [
    "### 3. Naive Bayes Classifier "
   ]
  },
  {
   "cell_type": "markdown",
   "metadata": {},
   "source": [
    "We define a features extractor function that check whether a word apears in a document or not, the classifier will be based on the features extracted from the tweets by this function"
   ]
  },
  {
   "cell_type": "code",
   "execution_count": 76,
   "metadata": {},
   "outputs": [],
   "source": [
    "def document_features(document, word_feature):\n",
    "    document_words = set(clean(document))\n",
    "    features = {}\n",
    "    for word in word_feature:\n",
    "        features['contains({})'.format(word)] = (word in document_words)\n",
    "    return features"
   ]
  },
  {
   "cell_type": "markdown",
   "metadata": {},
   "source": [
    "In this part we use the list fo all words computed previously and take the 2000 most frequent worded sorted by frequency from the less apearing to the most"
   ]
  },
  {
   "cell_type": "code",
   "execution_count": 77,
   "metadata": {},
   "outputs": [],
   "source": [
    "WordFreq = nltk.FreqDist(w.lower() for w in all_words)  ## calculate the frequency of apearance of each word in all the documents\n",
    "WordFreq_sorted = sorted(WordFreq.items(), key=operator.itemgetter(1)) ## Sort the words with their corresponding frequency from the lowest to the highest\n",
    "word_feature_tuple = WordFreq_sorted[len(WordFreq_sorted)-2000:] ## take the 2000 most apearing words \n",
    "word_feature = [c for (c,n) in word_feature_tuple] ## Convert to a list"
   ]
  },
  {
   "cell_type": "markdown",
   "metadata": {},
   "source": [
    "Create a dataset for the training and the testing respecting the format of the nltk library which means all the features extracted taged with a label ('pos' for positive and 'neg' for negative in our case)"
   ]
  },
  {
   "cell_type": "code",
   "execution_count": 78,
   "metadata": {},
   "outputs": [],
   "source": [
    "document = training_pos_tweets + training_neg_tweets\n",
    "random.shuffle(document) # shuffle the documents to make the training roughly equitable between the two categories\n",
    "featuresets = [(document_features(d,word_feature), c) for (d,c) in document]"
   ]
  },
  {
   "cell_type": "markdown",
   "metadata": {},
   "source": [
    "Split the feature set into training set and testing set and train the classifer"
   ]
  },
  {
   "cell_type": "code",
   "execution_count": 79,
   "metadata": {},
   "outputs": [
    {
     "name": "stdout",
     "output_type": "stream",
     "text": [
      "0.6785555555555556\n"
     ]
    }
   ],
   "source": [
    "train_set, test_set = featuresets[9000:], featuresets[:9000] ## split the dataSet into training set and testing set\n",
    "classifier = nltk.NaiveBayesClassifier.train(train_set) ## Train our Naive Bayes classifier\n",
    "print(nltk.classify.accuracy(classifier, test_set)) ## accuracy of the model based on the test_set"
   ]
  },
  {
   "cell_type": "markdown",
   "metadata": {},
   "source": [
    "A simple function that classify a tweet based on the last Naive classifer trained"
   ]
  },
  {
   "cell_type": "code",
   "execution_count": 80,
   "metadata": {},
   "outputs": [],
   "source": [
    "def classifyNaive(tweet, word_feature):\n",
    "    return classifier.classify(document_features(tweet, word_feature))"
   ]
  },
  {
   "cell_type": "code",
   "execution_count": 81,
   "metadata": {},
   "outputs": [
    {
     "name": "stdout",
     "output_type": "stream",
     "text": [
      "             precision    recall  f1-score   support\n",
      "\n",
      "        neg       0.72      0.51      0.59      3271\n",
      "        pos       0.66      0.83      0.73      3729\n",
      "\n",
      "avg / total       0.69      0.68      0.67      7000\n",
      "\n",
      "[[1658 1613]\n",
      " [ 645 3084]]\n"
     ]
    }
   ],
   "source": [
    "naive_prediction = [classifyNaive(tweet[0], word_feature) for tweet in document[:7000]] #predictions of the classifier\n",
    "naive_ground_truth = [tweet[1] for tweet in document[:7000]] #The ground Truth\n",
    "\n",
    "print(metrics.classification_report(naive_ground_truth, naive_prediction))\n",
    "print(metrics.confusion_matrix(naive_ground_truth, naive_prediction))"
   ]
  },
  {
   "cell_type": "markdown",
   "metadata": {},
   "source": [
    "Print the most 10 Informative features the Naive bayes classifier was based on to build the model"
   ]
  },
  {
   "cell_type": "code",
   "execution_count": 37,
   "metadata": {},
   "outputs": [
    {
     "name": "stdout",
     "output_type": "stream",
     "text": [
      "Most Informative Features\n",
      "        contains(hoseok) = True              neg : pos    =    158.6 : 1.0\n",
      "        contains(vocals) = True              neg : pos    =    109.1 : 1.0\n",
      "         contains(condo) = True              pos : neg    =     62.6 : 1.0\n",
      "           contains(ll…) = True              neg : pos    =     60.5 : 1.0\n",
      "      contains(taehyung) = True              neg : pos    =     59.9 : 1.0\n",
      "        contains(rushed) = True              pos : neg    =     57.1 : 1.0\n",
      "    contains(normalised) = True              pos : neg    =     49.8 : 1.0\n",
      "       contains(scumbag) = True              pos : neg    =     49.8 : 1.0\n",
      "    contains(devastated) = True              neg : pos    =     39.6 : 1.0\n",
      "          contains(jump) = True              pos : neg    =     38.7 : 1.0\n"
     ]
    }
   ],
   "source": [
    "classifier.show_most_informative_features(10)"
   ]
  },
  {
   "cell_type": "markdown",
   "metadata": {},
   "source": [
    "# Remove Neutral tweets \n",
    "\n",
    "We noticed that there are some tweets thats does not carry any polarity (they are neutral regarding the subject), these tweets will be classified as positive or negative which decreases the credibiity and the accuracy of our models.\n",
    "\n",
    "We decided to remove alle the tweets considered as neutral before traning the models. To do that we the vader method available in the nltk library. The sentiment Intensity analyzer gives us the intensity of polarity and neutrality of text, we remove only the tweets that are considred as 100% neutral"
   ]
  },
  {
   "cell_type": "markdown",
   "metadata": {},
   "source": [
    "### 1. For TfIdf :"
   ]
  },
  {
   "cell_type": "code",
   "execution_count": 95,
   "metadata": {},
   "outputs": [
    {
     "name": "stdout",
     "output_type": "stream",
     "text": [
      "20898 24241\n",
      "16151 18799\n"
     ]
    }
   ],
   "source": [
    "sid = SentimentIntensityAnalyzer()\n",
    "\n",
    "print(len(tweets_negative) , len(tweets_positive))\n",
    "\n",
    "for tweet in tweets_negative:\n",
    "    if sid.polarity_scores(tweet)['neu'] == 1.0:\n",
    "        tweets_negative.remove(tweet)\n",
    "\n",
    "for tweet in tweets_positive:\n",
    "    if sid.polarity_scores(tweet)['neu'] == 1.0:\n",
    "        tweets_positive.remove(tweet)\n",
    "\n",
    "print(len(tweets_negative) , len(tweets_positive))"
   ]
  },
  {
   "cell_type": "markdown",
   "metadata": {},
   "source": [
    "### 2. For Naive Bayes :"
   ]
  },
  {
   "cell_type": "code",
   "execution_count": 82,
   "metadata": {},
   "outputs": [
    {
     "name": "stdout",
     "output_type": "stream",
     "text": [
      "20898 24241\n",
      "16188 18987\n"
     ]
    }
   ],
   "source": [
    "print(len(training_neg_tweets) , len(training_pos_tweets))\n",
    "\n",
    "for tweet in training_neg_tweets:\n",
    "    if sid.polarity_scores(tweet[0])['neu'] == 1.0:\n",
    "        training_neg_tweets.remove(tweet)\n",
    "\n",
    "for tweet in training_pos_tweets:\n",
    "    if sid.polarity_scores(tweet[0])['neu'] == 1.0:\n",
    "        training_pos_tweets.remove(tweet)\n",
    "\n",
    "print(len(training_neg_tweets) , len(training_pos_tweets))"
   ]
  },
  {
   "cell_type": "markdown",
   "metadata": {},
   "source": [
    "# Training the models without Neutral tweets "
   ]
  },
  {
   "cell_type": "markdown",
   "metadata": {},
   "source": [
    "Repeat the same steps done previously to train the models"
   ]
  },
  {
   "cell_type": "markdown",
   "metadata": {},
   "source": [
    "### 1. Logistic Regression :"
   ]
  },
  {
   "cell_type": "code",
   "execution_count": 108,
   "metadata": {},
   "outputs": [
    {
     "data": {
      "text/plain": [
       "0.7886981402002862"
      ]
     },
     "execution_count": 108,
     "metadata": {},
     "output_type": "execute_result"
    }
   ],
   "source": [
    "training_tweets = tweets_negative + tweets_positive\n",
    "\n",
    "vectorizer = TfidfVectorizer()\n",
    "vectorizer.fit(training_tweets)\n",
    "vector = vectorizer.transform(training_tweets)\n",
    "\n",
    "target = np.append(np.zeros(len(tweets_negative), dtype=int) , np.ones(len(tweets_positive), dtype=int))\n",
    "x_train, x_test, y_train, y_test = train_test_split(vector.toarray(), target, test_size=0.20, random_state=0)\n",
    "\n",
    "logreg = linear_model.LogisticRegression(C=20, penalty='l1')\n",
    "logreg.fit(x_train, y_train)\n",
    "\n",
    "logreg.score(x_test, y_test)"
   ]
  },
  {
   "cell_type": "code",
   "execution_count": 97,
   "metadata": {},
   "outputs": [
    {
     "name": "stdout",
     "output_type": "stream",
     "text": [
      "             precision    recall  f1-score   support\n",
      "\n",
      "          0       0.78      0.76      0.77      3233\n",
      "          1       0.80      0.82      0.81      3757\n",
      "\n",
      "avg / total       0.79      0.79      0.79      6990\n",
      "\n",
      "[[2450  783]\n",
      " [ 693 3064]]\n"
     ]
    }
   ],
   "source": [
    "print(metrics.classification_report(y_test, logreg.predict(x_test)))\n",
    "print(metrics.confusion_matrix(y_test, logreg.predict(x_test)))"
   ]
  },
  {
   "cell_type": "markdown",
   "metadata": {},
   "source": [
    "### 2. SVM :"
   ]
  },
  {
   "cell_type": "code",
   "execution_count": 39,
   "metadata": {},
   "outputs": [
    {
     "data": {
      "text/plain": [
       "True"
      ]
     },
     "execution_count": 39,
     "metadata": {},
     "output_type": "execute_result"
    }
   ],
   "source": [
    "len(x_train) > len(x_train[0]) # n_samples > n_features => put dual = False (reference : http://scikit-learn.org/stable/modules/generated/sklearn.svm.LinearSVC.html )"
   ]
  },
  {
   "cell_type": "code",
   "execution_count": 53,
   "metadata": {},
   "outputs": [
    {
     "data": {
      "text/plain": [
       "0.7839771101573677"
      ]
     },
     "execution_count": 53,
     "metadata": {},
     "output_type": "execute_result"
    }
   ],
   "source": [
    "svc = svm.LinearSVC(C=10, penalty ='l1', dual = False ) \n",
    "svc.fit(x_train, y_train)\n",
    "svc.score(x_test,y_test)"
   ]
  },
  {
   "cell_type": "code",
   "execution_count": 54,
   "metadata": {},
   "outputs": [
    {
     "name": "stdout",
     "output_type": "stream",
     "text": [
      "             precision    recall  f1-score   support\n",
      "\n",
      "          0       0.77      0.75      0.76      3233\n",
      "          1       0.79      0.81      0.80      3757\n",
      "\n",
      "avg / total       0.78      0.78      0.78      6990\n",
      "\n",
      "[[2437  796]\n",
      " [ 714 3043]]\n"
     ]
    }
   ],
   "source": [
    "print(metrics.classification_report(y_test, svc.predict(x_test)))\n",
    "print(metrics.confusion_matrix(y_test, svc.predict(x_test)))"
   ]
  },
  {
   "cell_type": "markdown",
   "metadata": {},
   "source": [
    "### 3. Naive Bayes Classifier :"
   ]
  },
  {
   "cell_type": "markdown",
   "metadata": {},
   "source": [
    "Re-create the list of all words and the document containing all the tweets (positives and negatives)"
   ]
  },
  {
   "cell_type": "code",
   "execution_count": 85,
   "metadata": {},
   "outputs": [],
   "source": [
    "all_words = []\n",
    "document = training_neg_tweets + training_pos_tweets\n",
    "random.shuffle(document)\n",
    "for tweet in document:\n",
    "    all_words.extend(word_tokenize(tweet[0]))  # the function word_tokenise provided by the Nltk library"
   ]
  },
  {
   "cell_type": "code",
   "execution_count": 86,
   "metadata": {},
   "outputs": [
    {
     "name": "stdout",
     "output_type": "stream",
     "text": [
      "0.6911428571428572\n"
     ]
    }
   ],
   "source": [
    "WordFreq = nltk.FreqDist(w.lower() for w in all_words)  \n",
    "WordFreq_sorted = sorted(WordFreq.items(), key=operator.itemgetter(1)) \n",
    "word_feature_tuple = WordFreq_sorted[len(WordFreq_sorted)-2000:]  \n",
    "word_feature = [c for (c,n) in word_feature_tuple]\n",
    "featuresets = [(document_features(d,word_feature), c) for (d,c) in document]\n",
    "train_set, test_set = featuresets[7000:], featuresets[:7000] # take 20% for testing set\n",
    "classifier = nltk.NaiveBayesClassifier.train(train_set) \n",
    "print(nltk.classify.accuracy(classifier, test_set)) "
   ]
  },
  {
   "cell_type": "code",
   "execution_count": 87,
   "metadata": {},
   "outputs": [
    {
     "name": "stdout",
     "output_type": "stream",
     "text": [
      "             precision    recall  f1-score   support\n",
      "\n",
      "        neg       0.73      0.52      0.61      3240\n",
      "        pos       0.67      0.83      0.74      3760\n",
      "\n",
      "avg / total       0.70      0.69      0.68      7000\n",
      "\n",
      "[[1699 1541]\n",
      " [ 621 3139]]\n"
     ]
    }
   ],
   "source": [
    "naive_prediction = [classifyNaive(tweet[0], word_feature) for tweet in document[:7000]]\n",
    "naive_ground_truth = [tweet[1] for tweet in document[:7000]]\n",
    "\n",
    "print(metrics.classification_report(naive_ground_truth, naive_prediction))\n",
    "print(metrics.confusion_matrix(naive_ground_truth, naive_prediction))"
   ]
  },
  {
   "cell_type": "markdown",
   "metadata": {},
   "source": [
    "# Training the models with Nltk samples\n",
    "\n",
    "The nltk library provides sample tweets for traning already defined as positive and negative (5000 for each category), we will use them to train the models"
   ]
  },
  {
   "cell_type": "code",
   "execution_count": 76,
   "metadata": {},
   "outputs": [],
   "source": [
    "# Create a list of tweets  for Tfidf (we don't clean because we don't have acess to user mentions and hashtags and we don't want to remove Stop words for Tfidf)\n",
    "training_tweets = twitter_samples.strings('negative_tweets.json') + twitter_samples.strings('positive_tweets.json')\n",
    "\n",
    "# Create a list of tweets cleaned and labelled with positive and negative for Naive Bayes Classifier\n",
    "document = [(' '.join(clean(tweet)),'neg') for tweet in twitter_samples.strings('negative_tweets.json')] + [(' '.join(clean(tweet)),'pos') for tweet in twitter_samples.strings('positive_tweets.json')]\n",
    "random.shuffle(document)"
   ]
  },
  {
   "cell_type": "markdown",
   "metadata": {},
   "source": [
    "## With Neutral tweets :"
   ]
  },
  {
   "cell_type": "markdown",
   "metadata": {},
   "source": [
    "### 1.Logistic Regression :"
   ]
  },
  {
   "cell_type": "code",
   "execution_count": 77,
   "metadata": {},
   "outputs": [
    {
     "data": {
      "text/plain": [
       "0.716"
      ]
     },
     "execution_count": 77,
     "metadata": {},
     "output_type": "execute_result"
    }
   ],
   "source": [
    "vectorizer = TfidfVectorizer()\n",
    "vectorizer.fit(training_tweets)\n",
    "vector = vectorizer.transform(training_tweets)\n",
    "\n",
    "target = np.append(np.zeros(5000, dtype=int) , np.ones(5000, dtype=int))\n",
    "x_train, x_test, y_train, y_test = train_test_split(vector.toarray(), target, test_size=0.80, random_state=0)\n",
    "\n",
    "logreg = linear_model.LogisticRegression(C=20, penalty='l1')\n",
    "logreg.fit(x_train, y_train)\n",
    "\n",
    "logreg.score(x_test, y_test)"
   ]
  },
  {
   "cell_type": "code",
   "execution_count": 104,
   "metadata": {},
   "outputs": [
    {
     "name": "stdout",
     "output_type": "stream",
     "text": [
      "             precision    recall  f1-score   support\n",
      "\n",
      "          0       0.74      0.81      0.77       988\n",
      "          1       0.79      0.72      0.75      1012\n",
      "\n",
      "avg / total       0.76      0.76      0.76      2000\n",
      "\n",
      "[[796 192]\n",
      " [285 727]]\n"
     ]
    }
   ],
   "source": [
    "print(metrics.classification_report(y_test, logreg.predict(x_test)))\n",
    "print(metrics.confusion_matrix(y_test, logreg.predict(x_test)))"
   ]
  },
  {
   "cell_type": "markdown",
   "metadata": {},
   "source": [
    "### 2. SVM "
   ]
  },
  {
   "cell_type": "code",
   "execution_count": 58,
   "metadata": {},
   "outputs": [
    {
     "data": {
      "text/plain": [
       "False"
      ]
     },
     "execution_count": 58,
     "metadata": {},
     "output_type": "execute_result"
    }
   ],
   "source": [
    "len(x_train) > len(x_train[0]) # n_samples < n_features => put dual = True (reference : http://scikit-learn.org/stable/modules/generated/sklearn.svm.LinearSVC.html )"
   ]
  },
  {
   "cell_type": "code",
   "execution_count": 78,
   "metadata": {},
   "outputs": [
    {
     "data": {
      "text/plain": [
       "0.727875"
      ]
     },
     "execution_count": 78,
     "metadata": {},
     "output_type": "execute_result"
    }
   ],
   "source": [
    "svc = svm.LinearSVC(C=1, penalty ='l2', dual = True) \n",
    "svc.fit(x_train, y_train)\n",
    "svc.score(x_test,y_test)"
   ]
  },
  {
   "cell_type": "code",
   "execution_count": 79,
   "metadata": {},
   "outputs": [
    {
     "name": "stdout",
     "output_type": "stream",
     "text": [
      "             precision    recall  f1-score   support\n",
      "\n",
      "          0       0.71      0.77      0.74      3994\n",
      "          1       0.75      0.69      0.72      4006\n",
      "\n",
      "avg / total       0.73      0.73      0.73      8000\n",
      "\n",
      "[[3062  932]\n",
      " [1245 2761]]\n"
     ]
    }
   ],
   "source": [
    "print(metrics.classification_report(y_test, svc.predict(x_test)))\n",
    "print(metrics.confusion_matrix(y_test, svc.predict(x_test)))"
   ]
  },
  {
   "cell_type": "markdown",
   "metadata": {},
   "source": [
    "### 3. Naive Bayes Classifier "
   ]
  },
  {
   "cell_type": "code",
   "execution_count": 105,
   "metadata": {},
   "outputs": [],
   "source": [
    "all_words = []\n",
    "for tweet in document:\n",
    "    all_words.extend(word_tokenize(tweet[0]))"
   ]
  },
  {
   "cell_type": "code",
   "execution_count": 106,
   "metadata": {},
   "outputs": [
    {
     "name": "stdout",
     "output_type": "stream",
     "text": [
      "0.703\n"
     ]
    }
   ],
   "source": [
    "WordFreq = nltk.FreqDist(w.lower() for w in all_words)  \n",
    "WordFreq_sorted = sorted(WordFreq.items(), key=operator.itemgetter(1)) \n",
    "word_feature_tuple = WordFreq_sorted[len(WordFreq_sorted)-2000:]  \n",
    "word_feature = [c for (c,n) in word_feature_tuple]\n",
    "featuresets = [(document_features(d,word_feature), c) for (d,c) in document]\n",
    "train_set, test_set = featuresets[2000:], featuresets[:2000] \n",
    "classifier = nltk.NaiveBayesClassifier.train(train_set) \n",
    "print(nltk.classify.accuracy(classifier, test_set)) "
   ]
  },
  {
   "cell_type": "code",
   "execution_count": 107,
   "metadata": {},
   "outputs": [
    {
     "name": "stdout",
     "output_type": "stream",
     "text": [
      "             precision    recall  f1-score   support\n",
      "\n",
      "        neg       0.75      0.63      0.68      1023\n",
      "        pos       0.67      0.78      0.72       977\n",
      "\n",
      "avg / total       0.71      0.70      0.70      2000\n",
      "\n",
      "[[641 382]\n",
      " [212 765]]\n"
     ]
    }
   ],
   "source": [
    "naive_prediction = [classifyNaive(tweet[0], word_feature) for tweet in document[:2000]]\n",
    "naive_ground_truth = [tweet[1] for tweet in document[:2000]]\n",
    "\n",
    "print(metrics.classification_report(naive_ground_truth, naive_prediction))\n",
    "print(metrics.confusion_matrix(naive_ground_truth, naive_prediction))"
   ]
  },
  {
   "cell_type": "markdown",
   "metadata": {},
   "source": [
    "## Without Neutral tweets :\n",
    "\n",
    "Remove neutral tweets from Nltk's tweets for both Naive Bayes and Tfidf"
   ]
  },
  {
   "cell_type": "code",
   "execution_count": 80,
   "metadata": {},
   "outputs": [
    {
     "name": "stdout",
     "output_type": "stream",
     "text": [
      "10000\n",
      "9465\n",
      "10000\n",
      "7467\n"
     ]
    }
   ],
   "source": [
    "sid = SentimentIntensityAnalyzer()\n",
    "\n",
    "negative_lenght = 5000\n",
    "positive_lenght = 5000\n",
    "\n",
    "print(len(training_tweets))\n",
    "\n",
    "for tweet in training_tweets[:5000]:\n",
    "    if sid.polarity_scores(tweet)['neu'] == 1.0:\n",
    "        negative_lenght = negative_lenght - 1\n",
    "        training_tweets.remove(tweet)\n",
    "\n",
    "for tweet in training_tweets[negative_lenght:]:\n",
    "    if sid.polarity_scores(tweet)['neu'] == 1.0:\n",
    "        positive_lenght = positive_lenght - 1\n",
    "        training_tweets.remove(tweet) \n",
    "\n",
    "print(len(training_tweets))\n",
    "\n",
    "print(len(document))\n",
    "\n",
    "for tweet in document:\n",
    "    if sid.polarity_scores(tweet[0])['neu'] == 1.0:\n",
    "        document.remove(tweet)\n",
    "\n",
    "print(len(document))"
   ]
  },
  {
   "cell_type": "markdown",
   "metadata": {},
   "source": [
    "### 1.Logistic Regression :"
   ]
  },
  {
   "cell_type": "code",
   "execution_count": 81,
   "metadata": {},
   "outputs": [
    {
     "data": {
      "text/plain": [
       "0.7543581616481775"
      ]
     },
     "execution_count": 81,
     "metadata": {},
     "output_type": "execute_result"
    }
   ],
   "source": [
    "vectorizer = TfidfVectorizer()\n",
    "vectorizer.fit(training_tweets)\n",
    "vector = vectorizer.transform(training_tweets)\n",
    "\n",
    "target = np.append(np.zeros(negative_lenght, dtype=int), np.ones(positive_lenght, dtype=int))\n",
    "x_train, x_test, y_train, y_test = train_test_split(vector.toarray(), target, test_size=0.20, random_state=0)\n",
    "\n",
    "logreg = linear_model.LogisticRegression(C=1, penalty='l1')\n",
    "logreg.fit(x_train, y_train)\n",
    "\n",
    "logreg.score(x_test, y_test)"
   ]
  },
  {
   "cell_type": "code",
   "execution_count": 129,
   "metadata": {},
   "outputs": [
    {
     "name": "stdout",
     "output_type": "stream",
     "text": [
      "             precision    recall  f1-score   support\n",
      "\n",
      "          0       0.75      0.78      0.77       934\n",
      "          1       0.78      0.75      0.76       959\n",
      "\n",
      "avg / total       0.76      0.76      0.76      1893\n",
      "\n",
      "[[730 204]\n",
      " [242 717]]\n"
     ]
    }
   ],
   "source": [
    "print(metrics.classification_report(y_test, logreg.predict(x_test)))\n",
    "print(metrics.confusion_matrix(y_test, logreg.predict(x_test)))"
   ]
  },
  {
   "cell_type": "markdown",
   "metadata": {},
   "source": [
    "### 2. SVM "
   ]
  },
  {
   "cell_type": "code",
   "execution_count": 92,
   "metadata": {},
   "outputs": [
    {
     "data": {
      "text/plain": [
       "0.7617538298996303"
      ]
     },
     "execution_count": 92,
     "metadata": {},
     "output_type": "execute_result"
    }
   ],
   "source": [
    "svc = svm.LinearSVC(C=1, penalty ='l2', dual = True) \n",
    "svc.fit(x_train, y_train)\n",
    "svc.score(x_test,y_test)"
   ]
  },
  {
   "cell_type": "code",
   "execution_count": 93,
   "metadata": {},
   "outputs": [
    {
     "name": "stdout",
     "output_type": "stream",
     "text": [
      "             precision    recall  f1-score   support\n",
      "\n",
      "          0       0.75      0.78      0.76       934\n",
      "          1       0.78      0.74      0.76       959\n",
      "\n",
      "avg / total       0.76      0.76      0.76      1893\n",
      "\n",
      "[[732 202]\n",
      " [249 710]]\n"
     ]
    }
   ],
   "source": [
    "print(metrics.classification_report(y_test, svc.predict(x_test)))\n",
    "print(metrics.confusion_matrix(y_test, svc.predict(x_test)))"
   ]
  },
  {
   "cell_type": "markdown",
   "metadata": {},
   "source": [
    "### 3. Naive Bayes Classifier "
   ]
  },
  {
   "cell_type": "code",
   "execution_count": 131,
   "metadata": {},
   "outputs": [],
   "source": [
    "all_words = []\n",
    "for tweet in document:\n",
    "    all_words.extend(word_tokenize(tweet[0]))"
   ]
  },
  {
   "cell_type": "code",
   "execution_count": 132,
   "metadata": {},
   "outputs": [
    {
     "name": "stdout",
     "output_type": "stream",
     "text": [
      "0.7225\n"
     ]
    }
   ],
   "source": [
    "WordFreq = nltk.FreqDist(w.lower() for w in all_words)  \n",
    "WordFreq_sorted = sorted(WordFreq.items(), key=operator.itemgetter(1)) \n",
    "word_feature_tuple = WordFreq_sorted[len(WordFreq_sorted)-2000:]  \n",
    "word_feature = [c for (c,n) in word_feature_tuple]\n",
    "featuresets = [(document_features(d,word_feature), c) for (d,c) in document]\n",
    "train_set, test_set = featuresets[2000:], featuresets[:2000] \n",
    "classifier = nltk.NaiveBayesClassifier.train(train_set) \n",
    "print(nltk.classify.accuracy(classifier, test_set)) "
   ]
  },
  {
   "cell_type": "code",
   "execution_count": 133,
   "metadata": {},
   "outputs": [
    {
     "name": "stdout",
     "output_type": "stream",
     "text": [
      "             precision    recall  f1-score   support\n",
      "\n",
      "        neg       0.74      0.66      0.70       979\n",
      "        pos       0.71      0.78      0.74      1021\n",
      "\n",
      "avg / total       0.72      0.72      0.72      2000\n",
      "\n",
      "[[649 330]\n",
      " [225 796]]\n"
     ]
    }
   ],
   "source": [
    "naive_prediction = [classifyNaive(tweet[0], word_feature) for tweet in document[:2000]]\n",
    "naive_ground_truth = [tweet[1] for tweet in document[:2000]]\n",
    "\n",
    "print(metrics.classification_report(naive_ground_truth, naive_prediction))\n",
    "print(metrics.confusion_matrix(naive_ground_truth, naive_prediction))"
   ]
  },
  {
   "cell_type": "markdown",
   "metadata": {},
   "source": [
    "# Apply the model for data classification"
   ]
  },
  {
   "cell_type": "code",
   "execution_count": null,
   "metadata": {},
   "outputs": [],
   "source": [
    "# save the tweets in a file \n",
    "with open('SadiqKhan.json', 'a') as f :\n",
    "    for tweet in tweepy.Cursor(api.search, q=\"#SadiqKhan\",since=\"2018-04-10\",until= \"2018-04-11\",rpp=100, lang=\"en\").items():\n",
    "        f.write(json.dumps(tweet._json) + '\\n')"
   ]
  },
  {
   "cell_type": "code",
   "execution_count": 98,
   "metadata": {},
   "outputs": [],
   "source": [
    "# Read the tweets and clean them for Tfidf to apply the model on them\n",
    "with open('SadiqKhan.json', 'r') as f :\n",
    "    tweets_final = [' '.join( clean(json.loads(line)[\"text\"], False, json.loads(line)[\"entities\"][\"hashtags\"], json.loads(line)['entities']['user_mentions']) ) for line in f]"
   ]
  },
  {
   "cell_type": "markdown",
   "metadata": {},
   "source": [
    "### remove neutral tweets "
   ]
  },
  {
   "cell_type": "code",
   "execution_count": 99,
   "metadata": {},
   "outputs": [
    {
     "name": "stdout",
     "output_type": "stream",
     "text": [
      "13068\n",
      "11566\n"
     ]
    }
   ],
   "source": [
    "sid = SentimentIntensityAnalyzer()\n",
    "\n",
    "print(len(tweets_final))\n",
    "\n",
    "for tweet in tweets_final:\n",
    "    if sid.polarity_scores(tweet)['neu'] == 1.0:\n",
    "        tweets_final.remove(tweet)\n",
    "\n",
    "print(len(tweets_final))"
   ]
  },
  {
   "cell_type": "markdown",
   "metadata": {},
   "source": [
    "### Encode the tweets with same format as the model chosen"
   ]
  },
  {
   "cell_type": "code",
   "execution_count": 109,
   "metadata": {},
   "outputs": [],
   "source": [
    "vector_final = vectorizer.transform(tweets_final)"
   ]
  },
  {
   "cell_type": "markdown",
   "metadata": {},
   "source": [
    "### Making the predicstions (classification)"
   ]
  },
  {
   "cell_type": "markdown",
   "metadata": {},
   "source": [
    "We used Logistic regression (C=20, penalty='l1') with our tweets after  removing Neutral tweets because this is the model that gave the best score"
   ]
  },
  {
   "cell_type": "code",
   "execution_count": 110,
   "metadata": {},
   "outputs": [],
   "source": [
    "number_pos = 0\n",
    "number_neg = 0\n",
    "\n",
    "predictions = logreg.predict(vector_final)\n",
    "\n",
    "for predict in predictions:\n",
    "    if predict == 0:\n",
    "        number_neg+=1\n",
    "    else:\n",
    "        number_pos+=1"
   ]
  },
  {
   "cell_type": "markdown",
   "metadata": {},
   "source": [
    "### Data visualisation"
   ]
  },
  {
   "cell_type": "code",
   "execution_count": 111,
   "metadata": {},
   "outputs": [
    {
     "data": {
      "image/png": "[encoded data removed]",
      "text/plain": [
       "<matplotlib.figure.Figure at 0x1a12183470>"
      ]
     },
     "metadata": {},
     "output_type": "display_data"
    }
   ],
   "source": [
    "x = np.arange(2)\n",
    "\n",
    "sentiments = [100*number_pos/(number_pos+number_neg), 100*number_neg/(number_pos+number_neg)]\n",
    "\n",
    "fig, ax = plt.subplots(figsize=(20,10))\n",
    "pos, neg = plt.bar(x, sentiments)\n",
    "pos.set_facecolor('g')\n",
    "neg.set_facecolor('r')\n",
    "ax.set_ylim([0, 100])\n",
    "ax.set_ylabel('Percentage',fontsize=20)\n",
    "ax.set_title(\"London's Mayor Popularity\",fontsize=20)\n",
    "plt.xticks(x, ('positive', 'negative'),fontsize=20)\n",
    "\n",
    "\n",
    "plt.show()"
   ]
  },
  {
   "cell_type": "code",
   "execution_count": 113,
   "metadata": {},
   "outputs": [],
   "source": [
    "fig.savefig('pop.png')"
   ]
  },
  {
   "cell_type": "code",
   "execution_count": 112,
   "metadata": {},
   "outputs": [
    {
     "data": {
      "text/plain": [
       "(6093, 5473)"
      ]
     },
     "execution_count": 112,
     "metadata": {},
     "output_type": "execute_result"
    }
   ],
   "source": [
    "number_neg,number_pos"
   ]
  },
  {
   "cell_type": "code",
   "execution_count": null,
   "metadata": {},
   "outputs": [],
   "source": []
  }
 ],
 "metadata": {
  "kernelspec": {
   "display_name": "Python 3",
   "language": "python",
   "name": "python3"
  },
  "language_info": {
   "codemirror_mode": {
    "name": "ipython",
    "version": 3
   },
   "file_extension": ".py",
   "mimetype": "text/x-python",
   "name": "python",
   "nbconvert_exporter": "python",
   "pygments_lexer": "ipython3",
   "version": "3.6.4"
  }
 },
 "nbformat": 4,
 "nbformat_minor": 2
}
